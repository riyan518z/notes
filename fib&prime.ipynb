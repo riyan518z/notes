{
  "nbformat": 4,
  "nbformat_minor": 0,
  "metadata": {
    "colab": {
      "provenance": [],
      "authorship_tag": "ABX9TyMn5RdfMl/AZGDCaX1ubBdV",
      "include_colab_link": true
    },
    "kernelspec": {
      "name": "python3",
      "display_name": "Python 3"
    },
    "language_info": {
      "name": "python"
    }
  },
  "cells": [
    {
      "cell_type": "markdown",
      "metadata": {
        "id": "view-in-github",
        "colab_type": "text"
      },
      "source": [
        "<a href=\"https://colab.research.google.com/github/riyan518z/notes/blob/main/fib%26prime.ipynb\" target=\"_parent\"><img src=\"https://colab.research.google.com/assets/colab-badge.svg\" alt=\"Open In Colab\"/></a>"
      ]
    },
    {
      "cell_type": "code",
      "execution_count": null,
      "metadata": {
        "colab": {
          "base_uri": "https://localhost:8080/"
        },
        "id": "v8X2mFyWd5ta",
        "outputId": "9bd550c5-59dd-4cc5-804e-1c05622d45b0"
      },
      "outputs": [
        {
          "output_type": "stream",
          "name": "stdout",
          "text": [
            "Enter a number : 10\n",
            "0 1 1 2 3 5 8 13 21 34 "
          ]
        }
      ],
      "source": [
        "\"\"\"\n",
        "Fibonacci Sequence Generator\n",
        "----------------------------\n",
        "Generates and prints the first 'n' numbers of a Fibonacci-like sequence.\n",
        "Starts with 0 and 1, then each number is the sum of the previous two.\n",
        "\n",
        "Example:\n",
        "    Input: 5\n",
        "    Output: 0 1 1 2 3\n",
        "\"\"\"\n",
        "\n",
        "n = int(input('Enter a number : '))  # Take number of terms from user\n",
        "\n",
        "second = 1    # Second term in sequence\n",
        "first = 0     # First term in sequence\n",
        "new_list = [first]  # Initialize list with first term\n",
        "\n",
        "# Loop to generate the rest of the sequence\n",
        "for i in range(n - 1):\n",
        "    current = second + first  # Calculate current term\n",
        "    new_list.append(current)  # Add to sequence list\n",
        "\n",
        "    # Update variables for next iteration\n",
        "    second = first\n",
        "    first = current\n",
        "\n",
        "# Output the sequence\n",
        "for i in new_list:\n",
        "    print(i, end=' ')"
      ]
    },
    {
      "cell_type": "code",
      "source": [
        "\"\"\"\n",
        "Prime Number Checker\n",
        "--------------------\n",
        "Checks whether the entered number is prime.\n",
        "A prime number is greater than 1 and divisible only by 1 and itself.\n",
        "\n",
        "Example:\n",
        "    Input: 7\n",
        "    Output: 7 is a prime number.\n",
        "\"\"\"\n",
        "\n",
        "# Take input from user\n",
        "num = int(input(\"Enter the number: \"))\n",
        "\n",
        "# Check if number is less than or equal to 1 (not prime)\n",
        "if num <= 1:\n",
        "    print(f\"{num} is not a prime number.\")\n",
        "else:\n",
        "    # Loop through possible divisors from 2 to square root of num\n",
        "    for i in range(2, int(num ** 0.5) + 1):\n",
        "        if num % i == 0:  # If divisible, it's not prime\n",
        "            print(f\"{num} is not a prime number.\")\n",
        "            break         # Exit loop as we found a divisor\n",
        "    else:\n",
        "        # This else belongs to the for loop (runs if loop finishes without break)\n",
        "        print(f\"{num} is a prime number.\")"
      ],
      "metadata": {
        "colab": {
          "base_uri": "https://localhost:8080/"
        },
        "id": "Bu_FlYg4d6fw",
        "outputId": "3a812d4e-ee61-43de-972e-967a698f45a6"
      },
      "execution_count": null,
      "outputs": [
        {
          "output_type": "stream",
          "name": "stdout",
          "text": [
            "Enter the number: 10\n",
            "10 is not a prime number.\n"
          ]
        }
      ]
    },
    {
      "cell_type": "code",
      "source": [],
      "metadata": {
        "id": "VhtMQ82ViEKY"
      },
      "execution_count": null,
      "outputs": []
    }
  ]
}