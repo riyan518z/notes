{
  "nbformat": 4,
  "nbformat_minor": 0,
  "metadata": {
    "colab": {
      "provenance": [],
      "authorship_tag": "ABX9TyNHOgLlRNR/ePIWG0kx+A5q",
      "include_colab_link": true
    },
    "kernelspec": {
      "name": "python3",
      "display_name": "Python 3"
    },
    "language_info": {
      "name": "python"
    }
  },
  "cells": [
    {
      "cell_type": "markdown",
      "metadata": {
        "id": "view-in-github",
        "colab_type": "text"
      },
      "source": [
        "<a href=\"https://colab.research.google.com/github/riyan518z/notes/blob/main/controlflow.ipynb\" target=\"_parent\"><img src=\"https://colab.research.google.com/assets/colab-badge.svg\" alt=\"Open In Colab\"/></a>"
      ]
    },
    {
      "cell_type": "markdown",
      "source": [
        "if"
      ],
      "metadata": {
        "id": "08zKcUhFUjlf"
      }
    },
    {
      "cell_type": "code",
      "execution_count": null,
      "metadata": {
        "colab": {
          "base_uri": "https://localhost:8080/"
        },
        "id": "8VpucESZRxX-",
        "outputId": "6065b874-b9be-4468-ea17-78f8c2fb6a8d"
      },
      "outputs": [
        {
          "output_type": "stream",
          "name": "stdout",
          "text": [
            "age 19\n",
            "eligible to vote\n"
          ]
        }
      ],
      "source": [
        "x = int (input('age '))\n",
        "if x >= 18 :\n",
        "  print(\"eligible to vote\")"
      ]
    },
    {
      "cell_type": "code",
      "source": [
        "x = int (input('age '))\n",
        "if x >= 18 :\n",
        "  print(\"eligible to vote\")\n",
        "else :\n",
        "    print(\"not eligible to vote\")"
      ],
      "metadata": {
        "colab": {
          "base_uri": "https://localhost:8080/"
        },
        "id": "ntTx_xODTwwV",
        "outputId": "7bd5c013-16a1-402b-d055-21df9626b3bf"
      },
      "execution_count": null,
      "outputs": [
        {
          "output_type": "stream",
          "name": "stdout",
          "text": [
            "age 17\n",
            "not eligible to vote\n"
          ]
        }
      ]
    },
    {
      "cell_type": "markdown",
      "source": [
        "if elif"
      ],
      "metadata": {
        "id": "nL3IRYgJUlIt"
      }
    },
    {
      "cell_type": "code",
      "source": [
        "x = int(input(\"enter a number\"))\n",
        "if x>10 :\n",
        "  print(\"the number is greater than ten\")\n",
        "elif x==0 :\n",
        "  print(\"the number is zero\")\n",
        "elif x<10 :\n",
        "  print(\"the number is less than 10\")"
      ],
      "metadata": {
        "colab": {
          "base_uri": "https://localhost:8080/"
        },
        "id": "d-F_uu5AUnAt",
        "outputId": "a6d0b557-b0ea-43da-cbde-293f10a697fa"
      },
      "execution_count": null,
      "outputs": [
        {
          "output_type": "stream",
          "name": "stdout",
          "text": [
            "enter a number5\n",
            "the number is less than 10\n"
          ]
        }
      ]
    },
    {
      "cell_type": "code",
      "source": [
        "x = int(input(\"enter a age\"))\n",
        "if x <= 12 :\n",
        "  print(\"child\")\n",
        "elif x<=19 :\n",
        "  print(\"teen\")\n",
        "elif x <=59 :\n",
        "  print(\"adult\")\n",
        "elif x > 60 :\n",
        "  print(\"senior citizen\")\n"
      ],
      "metadata": {
        "colab": {
          "base_uri": "https://localhost:8080/"
        },
        "id": "lnWMDjfGWE8D",
        "outputId": "4519ecb1-477d-4e48-e8b8-461dc3b99fe4"
      },
      "execution_count": null,
      "outputs": [
        {
          "output_type": "stream",
          "name": "stdout",
          "text": [
            "enter a age20\n",
            "adult\n"
          ]
        }
      ]
    },
    {
      "cell_type": "code",
      "source": [
        "x=int(input('Enter your age: '))\n",
        "if x<=12:\n",
        "  print('You are a child')\n",
        "elif x>=13 and x <=19:\n",
        "  print('You are a teen')\n",
        "elif x>=20 and x<=59:\n",
        "  print('You are an adult')\n",
        "elif x>60:\n",
        "  print('You are a senior citizen')"
      ],
      "metadata": {
        "colab": {
          "base_uri": "https://localhost:8080/"
        },
        "id": "psWsPen4Xydb",
        "outputId": "c173817f-2767-4ba3-bb87-f12e96daf61e"
      },
      "execution_count": null,
      "outputs": [
        {
          "output_type": "stream",
          "name": "stdout",
          "text": [
            "Enter your age: 59\n",
            "You are an adult\n"
          ]
        }
      ]
    },
    {
      "cell_type": "code",
      "source": [
        "#write a code to check if your name is lengthy (more than 10 characters)\n",
        "x = input (\"enter ur name \")\n",
        "if len(x) > 10 :\n",
        "  print(\"your name is lengthy\")\n",
        "else :\n",
        "  print(\"ur name is short\")"
      ],
      "metadata": {
        "colab": {
          "base_uri": "https://localhost:8080/"
        },
        "id": "u-uveDoNZYsm",
        "outputId": "b42c52a2-e9cf-44b6-a956-7a600df48d08"
      },
      "execution_count": null,
      "outputs": [
        {
          "output_type": "stream",
          "name": "stdout",
          "text": [
            "enter ur name madhav raaju\n",
            "your name is lengthy\n"
          ]
        }
      ]
    },
    {
      "cell_type": "code",
      "source": [
        "x = int(input(\"enter the hour in HH \"))\n",
        "y = int(input(\"enter the hour in MM \"))\n",
        "print (x, \":\",y)\n",
        "if x>12:\n",
        "  z= x-12\n",
        "  print(z,\":\",y,\"pm\")\n",
        "else :\n",
        "  print(x,\":\",y,\"am\")\n"
      ],
      "metadata": {
        "colab": {
          "base_uri": "https://localhost:8080/"
        },
        "id": "EHieuLaGaY00",
        "outputId": "7349a546-07e0-403a-c4fa-f10690e8d59a"
      },
      "execution_count": null,
      "outputs": [
        {
          "output_type": "stream",
          "name": "stdout",
          "text": [
            "enter the hour in HH 23\n",
            "enter the hour in MM 10\n",
            "23 : 10\n",
            "11 : 10 pm\n"
          ]
        }
      ]
    },
    {
      "cell_type": "code",
      "source": [
        "#palindrome using if\n",
        "x = input(\"enter a string \")\n",
        "y=x[::-1]\n",
        "if y==x :\n",
        " print(\"given string is palindrome\")\n",
        "else :\n",
        " print(\"not palindrome\")"
      ],
      "metadata": {
        "colab": {
          "base_uri": "https://localhost:8080/"
        },
        "id": "CNJ7M1FXgp6k",
        "outputId": "f463bb5e-362f-411a-e425-02a19a8f7103"
      },
      "execution_count": null,
      "outputs": [
        {
          "output_type": "stream",
          "name": "stdout",
          "text": [
            "enter a string malayalam\n",
            "given string is palindrome\n"
          ]
        }
      ]
    },
    {
      "cell_type": "code",
      "source": [
        "x = input(\"enter a colour \")\n",
        "if x == \"red\" or x == \"green\" or x==\"blue\" :\n",
        "  print (\"the colour is primary\")\n",
        "else :\n",
        "  print (\"not primary\")"
      ],
      "metadata": {
        "colab": {
          "base_uri": "https://localhost:8080/"
        },
        "id": "t5hAwce8ikjs",
        "outputId": "7e4e9e62-5ac8-40a1-bbf2-f0e5d3b66cb6"
      },
      "execution_count": null,
      "outputs": [
        {
          "output_type": "stream",
          "name": "stdout",
          "text": [
            "enter a colour blue\n",
            "the colour is primary\n"
          ]
        }
      ]
    },
    {
      "cell_type": "code",
      "source": [],
      "metadata": {
        "id": "FbXXr0iwqxAF"
      },
      "execution_count": null,
      "outputs": []
    },
    {
      "cell_type": "markdown",
      "source": [
        "multi variable assignment"
      ],
      "metadata": {
        "id": "DnLjlDSp2YuY"
      }
    },
    {
      "cell_type": "code",
      "source": [
        "name , age , location = \"guest\" , 22 , \"kochi\"\n",
        "print(name)\n",
        "print(age)\n",
        "print(location)"
      ],
      "metadata": {
        "colab": {
          "base_uri": "https://localhost:8080/"
        },
        "id": "7kEohV1n2czL",
        "outputId": "6cd3996e-1b0e-4c1a-cd0a-1669f870d512"
      },
      "execution_count": null,
      "outputs": [
        {
          "output_type": "stream",
          "name": "stdout",
          "text": [
            "guest\n",
            "22\n",
            "kochi\n"
          ]
        }
      ]
    },
    {
      "cell_type": "markdown",
      "source": [
        "place holder passing"
      ],
      "metadata": {
        "id": "728o6dNr3dx6"
      }
    },
    {
      "cell_type": "code",
      "source": [
        "a=10\n",
        "b=20.25698\n",
        "print(f\"a contains {a} b contains {b}\")\n",
        "print(\"a contains {} b contains {}\".format(a,b))\n",
        "print(\"a contains {1} b contains {0}\".format(b,a))\n",
        "print(f\"b contains {b:.2f}\")"
      ],
      "metadata": {
        "id": "cQK8iJF-2nfp"
      },
      "execution_count": null,
      "outputs": []
    },
    {
      "cell_type": "code",
      "source": [
        "#int to string\n",
        "a=5\n",
        "b=str(a)\n",
        "print(b,type(b))\n",
        "\n",
        "#string to int\n",
        "#int to float"
      ],
      "metadata": {
        "colab": {
          "base_uri": "https://localhost:8080/"
        },
        "id": "MDKR_fwL6v4W",
        "outputId": "a09b8313-c593-4300-cd7d-4b84e904b10b"
      },
      "execution_count": null,
      "outputs": [
        {
          "output_type": "stream",
          "name": "stdout",
          "text": [
            "5 <class 'str'>\n"
          ]
        }
      ]
    },
    {
      "cell_type": "code",
      "source": [
        "#string join\n",
        "domain = [\"data\",\"science\"]"
      ],
      "metadata": {
        "id": "2kZKk_Wy_3uF"
      },
      "execution_count": null,
      "outputs": []
    },
    {
      "cell_type": "code",
      "source": [
        "#list operations\n",
        "\n",
        "x = [1,2,3]\n",
        "x.append(4)\n",
        "print(x)\n",
        "x.extend([5,6])\n",
        "print(x)\n",
        "x.remove(2)\n",
        "print(x)\n",
        "x.insert(0,'a')\n",
        "print(x)"
      ],
      "metadata": {
        "colab": {
          "base_uri": "https://localhost:8080/"
        },
        "id": "d-bgMA_xA3Ko",
        "outputId": "2a730f41-ea1d-425f-bf8a-ba40dfb22356"
      },
      "execution_count": null,
      "outputs": [
        {
          "output_type": "stream",
          "name": "stdout",
          "text": [
            "[1, 2, 3, 4]\n",
            "[1, 2, 3, 4, 5, 6]\n",
            "[1, 3, 4, 5, 6]\n",
            "['a', 1, 3, 4, 5, 6]\n"
          ]
        }
      ]
    },
    {
      "cell_type": "code",
      "source": [
        "x = int(input(y=[]))\n",
        "print(x)\n"
      ],
      "metadata": {
        "colab": {
          "base_uri": "https://localhost:8080/",
          "height": 165
        },
        "id": "b3FeAMhWCM6a",
        "outputId": "94cac41c-0f44-4eec-a532-ca2ac633a5d3"
      },
      "execution_count": null,
      "outputs": [
        {
          "output_type": "error",
          "ename": "TypeError",
          "evalue": "Kernel.raw_input() got an unexpected keyword argument 'y'",
          "traceback": [
            "\u001b[0;31m---------------------------------------------------------------------------\u001b[0m",
            "\u001b[0;31mTypeError\u001b[0m                                 Traceback (most recent call last)",
            "\u001b[0;32m/tmp/ipython-input-1142544854.py\u001b[0m in \u001b[0;36m<cell line: 0>\u001b[0;34m()\u001b[0m\n\u001b[0;32m----> 1\u001b[0;31m \u001b[0mx\u001b[0m \u001b[0;34m=\u001b[0m \u001b[0mint\u001b[0m\u001b[0;34m(\u001b[0m\u001b[0minput\u001b[0m\u001b[0;34m(\u001b[0m\u001b[0my\u001b[0m\u001b[0;34m=\u001b[0m\u001b[0;34m[\u001b[0m\u001b[0;34m]\u001b[0m\u001b[0;34m)\u001b[0m\u001b[0;34m)\u001b[0m\u001b[0;34m\u001b[0m\u001b[0;34m\u001b[0m\u001b[0m\n\u001b[0m\u001b[1;32m      2\u001b[0m \u001b[0mprint\u001b[0m\u001b[0;34m(\u001b[0m\u001b[0mx\u001b[0m\u001b[0;34m)\u001b[0m\u001b[0;34m\u001b[0m\u001b[0;34m\u001b[0m\u001b[0m\n",
            "\u001b[0;31mTypeError\u001b[0m: Kernel.raw_input() got an unexpected keyword argument 'y'"
          ]
        }
      ]
    },
    {
      "cell_type": "code",
      "source": [],
      "metadata": {
        "id": "hAc1Gwl0Egxn"
      },
      "execution_count": null,
      "outputs": []
    }
  ]
}