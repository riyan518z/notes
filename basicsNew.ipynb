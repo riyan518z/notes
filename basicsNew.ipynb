{
  "nbformat": 4,
  "nbformat_minor": 0,
  "metadata": {
    "colab": {
      "provenance": [],
      "gpuType": "T4",
      "authorship_tag": "ABX9TyNl3mmlBApUZK7LQDY+wfpD",
      "include_colab_link": true
    },
    "kernelspec": {
      "name": "python3",
      "display_name": "Python 3"
    },
    "language_info": {
      "name": "python"
    },
    "accelerator": "GPU"
  },
  "cells": [
    {
      "cell_type": "markdown",
      "metadata": {
        "id": "view-in-github",
        "colab_type": "text"
      },
      "source": [
        "<a href=\"https://colab.research.google.com/github/riyan518z/notes/blob/main/basicsNew.ipynb\" target=\"_parent\"><img src=\"https://colab.research.google.com/assets/colab-badge.svg\" alt=\"Open In Colab\"/></a>"
      ]
    },
    {
      "cell_type": "markdown",
      "source": [
        "#***python notebook***\n",
        "here , we are exploring some basics"
      ],
      "metadata": {
        "id": "09adc0amlCEa"
      }
    },
    {
      "cell_type": "code",
      "execution_count": null,
      "metadata": {
        "id": "am8Z29JciL9O"
      },
      "outputs": [],
      "source": [
        "\n",
        "\n"
      ]
    },
    {
      "cell_type": "code",
      "source": [
        "#some code\n"
      ],
      "metadata": {
        "id": "lnj1ux_VoD8b"
      },
      "execution_count": null,
      "outputs": []
    },
    {
      "cell_type": "markdown",
      "source": [
        "#topic 2"
      ],
      "metadata": {
        "id": "LlW3PlskoM8B"
      }
    },
    {
      "cell_type": "code",
      "source": [
        "#some code"
      ],
      "metadata": {
        "id": "9SK3SAkTn4Ra"
      },
      "execution_count": null,
      "outputs": []
    },
    {
      "cell_type": "markdown",
      "source": [
        "#topic 3"
      ],
      "metadata": {
        "id": "wSDpHFVSoSlV"
      }
    },
    {
      "cell_type": "code",
      "source": [
        "#some code"
      ],
      "metadata": {
        "id": "md_8apiZoVgk"
      },
      "execution_count": null,
      "outputs": []
    },
    {
      "cell_type": "markdown",
      "source": [
        "##sub code"
      ],
      "metadata": {
        "id": "9tXoY2-XoZZm"
      }
    },
    {
      "cell_type": "code",
      "source": [],
      "metadata": {
        "id": "0LCe6Ad7ocP7"
      },
      "execution_count": null,
      "outputs": []
    }
  ]
}