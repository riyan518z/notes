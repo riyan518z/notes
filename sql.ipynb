{
  "nbformat": 4,
  "nbformat_minor": 0,
  "metadata": {
    "colab": {
      "provenance": [],
      "authorship_tag": "ABX9TyO/wu8DOENRaIKLWODPFMXI",
      "include_colab_link": true
    },
    "kernelspec": {
      "name": "python3",
      "display_name": "Python 3"
    },
    "language_info": {
      "name": "python"
    }
  },
  "cells": [
    {
      "cell_type": "markdown",
      "metadata": {
        "id": "view-in-github",
        "colab_type": "text"
      },
      "source": [
        "<a href=\"https://colab.research.google.com/github/riyan518z/notes/blob/main/sql.ipynb\" target=\"_parent\"><img src=\"https://colab.research.google.com/assets/colab-badge.svg\" alt=\"Open In Colab\"/></a>"
      ]
    },
    {
      "cell_type": "code",
      "execution_count": null,
      "metadata": {
        "id": "MCfiIi9Bzo3v"
      },
      "outputs": [],
      "source": [
        "import sqlite3\n",
        "\n",
        "conn = sqlite3.connect(\"students.db\")\n",
        "cursor = conn.cursor()"
      ]
    },
    {
      "cell_type": "code",
      "source": [
        "from typing import Text\n",
        "\n",
        "cursor.execute(\"\"\"create table if not exists students (\n",
        "    id INTEGER PRIMARY KEY AUTOINCREMENT,\n",
        "    name TEXT,\n",
        "    age Integer,\n",
        "    Gender Text,\n",
        "    grade Text\n",
        "   )\n",
        "\n",
        "\"\"\")"
      ],
      "metadata": {
        "colab": {
          "base_uri": "https://localhost:8080/"
        },
        "id": "RnLPmqV87iZ9",
        "outputId": "af16aa5f-cb81-41c6-e00f-f8e7e75e809a"
      },
      "execution_count": null,
      "outputs": [
        {
          "output_type": "execute_result",
          "data": {
            "text/plain": [
              "<sqlite3.Cursor at 0x7d7601ead3c0>"
            ]
          },
          "metadata": {},
          "execution_count": 151
        }
      ]
    },
    {
      "cell_type": "code",
      "source": [
        "cursor.execute(\"insert into students values (123,'abc',18,'m','a')\")"
      ],
      "metadata": {
        "colab": {
          "base_uri": "https://localhost:8080/"
        },
        "id": "_AKsNKXV84vd",
        "outputId": "a05c3d24-777b-420f-f552-e78380d5eb07"
      },
      "execution_count": null,
      "outputs": [
        {
          "output_type": "execute_result",
          "data": {
            "text/plain": [
              "<sqlite3.Cursor at 0x7d7601ead3c0>"
            ]
          },
          "metadata": {},
          "execution_count": 152
        }
      ]
    },
    {
      "cell_type": "code",
      "source": [
        "cursor.execute(\"insert into students values (124,'abd',19,'m','b')\")"
      ],
      "metadata": {
        "colab": {
          "base_uri": "https://localhost:8080/"
        },
        "id": "36JwJSKH9ahP",
        "outputId": "63e2a152-622b-44bd-fdc6-4fc744574ea2"
      },
      "execution_count": null,
      "outputs": [
        {
          "output_type": "execute_result",
          "data": {
            "text/plain": [
              "<sqlite3.Cursor at 0x7d7601ead3c0>"
            ]
          },
          "metadata": {},
          "execution_count": 153
        }
      ]
    },
    {
      "cell_type": "code",
      "source": [
        "cursor.execute(\"insert into students values (125,'aba',20,'m','c')\")"
      ],
      "metadata": {
        "colab": {
          "base_uri": "https://localhost:8080/"
        },
        "id": "m7WclOBJ-ALI",
        "outputId": "56f69f81-30f2-4028-8530-d79abdf92397"
      },
      "execution_count": null,
      "outputs": [
        {
          "output_type": "execute_result",
          "data": {
            "text/plain": [
              "<sqlite3.Cursor at 0x7d7601ead3c0>"
            ]
          },
          "metadata": {},
          "execution_count": 154
        }
      ]
    },
    {
      "cell_type": "code",
      "source": [
        "cursor.execute(\"insert into students values (122,'acc',18,'m','a+')\")"
      ],
      "metadata": {
        "colab": {
          "base_uri": "https://localhost:8080/"
        },
        "id": "jSRIJqxG-Shm",
        "outputId": "92104e2a-30ba-4349-b68a-17942955afca"
      },
      "execution_count": null,
      "outputs": [
        {
          "output_type": "execute_result",
          "data": {
            "text/plain": [
              "<sqlite3.Cursor at 0x7d7601ead3c0>"
            ]
          },
          "metadata": {},
          "execution_count": 155
        }
      ]
    },
    {
      "cell_type": "code",
      "source": [
        "cursor.execute(\"insert into students values (113,'ccc',18,'m','b+')\")"
      ],
      "metadata": {
        "colab": {
          "base_uri": "https://localhost:8080/"
        },
        "id": "M5paDuzz-aQJ",
        "outputId": "61d77426-d36d-4706-c81e-5b5c72f9f860"
      },
      "execution_count": null,
      "outputs": [
        {
          "output_type": "execute_result",
          "data": {
            "text/plain": [
              "<sqlite3.Cursor at 0x7d7601ead3c0>"
            ]
          },
          "metadata": {},
          "execution_count": 156
        }
      ]
    },
    {
      "cell_type": "code",
      "source": [
        "conn.commit()"
      ],
      "metadata": {
        "id": "_1qBhHhuGZgu"
      },
      "execution_count": null,
      "outputs": []
    },
    {
      "cell_type": "code",
      "source": [
        "cursor.execute(\"SELECT * FROM  students\")"
      ],
      "metadata": {
        "colab": {
          "base_uri": "https://localhost:8080/"
        },
        "id": "pHs7SRo8-gIZ",
        "outputId": "da59c885-29ff-4c5f-c1ee-8b8d22e8b687"
      },
      "execution_count": null,
      "outputs": [
        {
          "output_type": "execute_result",
          "data": {
            "text/plain": [
              "<sqlite3.Cursor at 0x7d7601ead3c0>"
            ]
          },
          "metadata": {},
          "execution_count": 158
        }
      ]
    },
    {
      "cell_type": "code",
      "source": [
        " #a  = cursor.fetchall()\n",
        " print (a)"
      ],
      "metadata": {
        "colab": {
          "base_uri": "https://localhost:8080/"
        },
        "id": "BgYc3YNx_2ph",
        "outputId": "bb3ebaf4-29c6-4116-aec8-a99a36e9a534"
      },
      "execution_count": null,
      "outputs": [
        {
          "output_type": "stream",
          "name": "stdout",
          "text": [
            "[(113, 'ccc', 18, 'm', 'b+'), (122, 'acc', 18, 'm', 'a+'), (123, 'abc', 18, 'm', 'a'), (124, 'abd', 19, 'm', 'b'), (125, 'aba', 20, 'm', 'c')]\n"
          ]
        }
      ]
    },
    {
      "cell_type": "code",
      "source": [
        "#print(cursor.fetchall())"
      ],
      "metadata": {
        "id": "uAh7JYU1ACg8"
      },
      "execution_count": null,
      "outputs": []
    },
    {
      "cell_type": "code",
      "source": [
        "rows = cursor.fetchall()"
      ],
      "metadata": {
        "id": "cZmhYUqHE-dz"
      },
      "execution_count": null,
      "outputs": []
    },
    {
      "cell_type": "code",
      "source": [
        "for row in rows :\n",
        "  print(\"id:\",row[0],\"name\" ,row[1],\"age:\",row[2],\"gender :\",row[3],'grade',row[4])\n"
      ],
      "metadata": {
        "colab": {
          "base_uri": "https://localhost:8080/"
        },
        "id": "L8w9T3yfDBJI",
        "outputId": "185048fa-b6d3-4d99-b25d-88c8450de8d0"
      },
      "execution_count": null,
      "outputs": [
        {
          "output_type": "stream",
          "name": "stdout",
          "text": [
            "id: 113 name ccc age: 18 gender : m grade b+\n",
            "id: 122 name acc age: 18 gender : m grade a+\n",
            "id: 123 name abc age: 18 gender : m grade a\n",
            "id: 124 name abd age: 19 gender : m grade b\n",
            "id: 125 name aba age: 20 gender : m grade c\n"
          ]
        }
      ]
    },
    {
      "cell_type": "code",
      "source": [
        "cursor.execute(\"select * from students where grade = 'a' \")\n",
        "rows = cursor.fetchall()\n",
        "for row in rows:\n",
        "  print(\"id:\",row[0],\"name\" ,row[1],\"age:\",row[2],\"gender :\",row[3],'grade',row[4])"
      ],
      "metadata": {
        "colab": {
          "base_uri": "https://localhost:8080/"
        },
        "id": "37iAYy9tE6AP",
        "outputId": "33c78202-6ee0-46fe-8465-38b9cbb7a952"
      },
      "execution_count": null,
      "outputs": [
        {
          "output_type": "stream",
          "name": "stdout",
          "text": [
            "id: 123 name abc age: 18 gender : m grade a\n"
          ]
        }
      ]
    },
    {
      "cell_type": "code",
      "source": [
        "cursor.execute(\"select * from students order by age desc\")\n",
        "rows = cursor.fetchall()\n",
        "for row in rows:\n",
        "  print(\"id:\",row[0],\"name\" ,row[1],\"age:\",row[2],\"gender :\",row[3],'grade',row[4])"
      ],
      "metadata": {
        "colab": {
          "base_uri": "https://localhost:8080/"
        },
        "id": "tqTZOeFNHexi",
        "outputId": "dfec82e8-f8a3-4d49-a459-61530028cb40"
      },
      "execution_count": null,
      "outputs": [
        {
          "output_type": "stream",
          "name": "stdout",
          "text": [
            "id: 125 name aba age: 20 gender : m grade c\n",
            "id: 124 name abd age: 19 gender : m grade b\n",
            "id: 122 name acc age: 18 gender : m grade a+\n",
            "id: 123 name abc age: 18 gender : m grade a\n"
          ]
        }
      ]
    },
    {
      "cell_type": "code",
      "source": [
        "cursor.execute (\"select count(*) from students where grade = 'a' \")\n",
        "rows = cursor.fetchall()\n",
        "for row in rows:\n",
        "  print('grade',row[0])"
      ],
      "metadata": {
        "colab": {
          "base_uri": "https://localhost:8080/"
        },
        "id": "vir_8AXvIt7U",
        "outputId": "82a1ec53-12cd-432f-d348-4c913379d3f6"
      },
      "execution_count": null,
      "outputs": [
        {
          "output_type": "stream",
          "name": "stdout",
          "text": [
            "grade 1\n"
          ]
        }
      ]
    },
    {
      "cell_type": "code",
      "source": [
        "cursor.execute(\"select avg(age) from students where age < 17 \")\n",
        "rows = cursor.fetchall()\n",
        "for row in rows:\n",
        "  print(\"age:\",row[0])"
      ],
      "metadata": {
        "colab": {
          "base_uri": "https://localhost:8080/"
        },
        "id": "pah_g-FlI4Lb",
        "outputId": "5ce650af-8d57-4f35-ba3c-c3118eee1e2c"
      },
      "execution_count": null,
      "outputs": [
        {
          "output_type": "stream",
          "name": "stdout",
          "text": [
            "age: None\n"
          ]
        }
      ]
    },
    {
      "cell_type": "code",
      "source": [
        "cursor.execute (\"select * from students order by age desc limit 3\")\n",
        "rows = cursor.fetchall()\n",
        "for row in rows:\n",
        "  print(\"id:\",row[0],\"name\" ,row[1],\"age:\",row[2],\"gender :\",row[3],'grade',row[4])"
      ],
      "metadata": {
        "colab": {
          "base_uri": "https://localhost:8080/"
        },
        "id": "7gvWE0sBJ3eJ",
        "outputId": "000c18ed-9d33-4eea-d530-a18d8cc03f5d"
      },
      "execution_count": null,
      "outputs": [
        {
          "output_type": "stream",
          "name": "stdout",
          "text": [
            "id: 125 name aba age: 20 gender : m grade c\n",
            "id: 124 name abd age: 19 gender : m grade b\n",
            "id: 122 name acc age: 18 gender : m grade a+\n"
          ]
        }
      ]
    },
    {
      "cell_type": "code",
      "source": [
        "cursor.execute (\"select age,count(*) from students group by age\")\n",
        "rows = cursor.fetchall()\n",
        "for row in rows:\n",
        "  print(\"age:\",row[0])\n"
      ],
      "metadata": {
        "colab": {
          "base_uri": "https://localhost:8080/"
        },
        "id": "UIPKjIFjKnBw",
        "outputId": "68f43cb2-ab8c-471c-cce6-f859c196f36c"
      },
      "execution_count": null,
      "outputs": [
        {
          "output_type": "stream",
          "name": "stdout",
          "text": [
            "age: 18\n",
            "age: 19\n",
            "age: 20\n"
          ]
        }
      ]
    },
    {
      "cell_type": "code",
      "source": [
        "cursor.execute(\"alter table students add column mark integer\")"
      ],
      "metadata": {
        "colab": {
          "base_uri": "https://localhost:8080/"
        },
        "id": "b8BUQWGALeEg",
        "outputId": "c028f9f1-4a2e-45e6-eecd-5c02f51898e8"
      },
      "execution_count": null,
      "outputs": [
        {
          "output_type": "execute_result",
          "data": {
            "text/plain": [
              "<sqlite3.Cursor at 0x7d7601ead3c0>"
            ]
          },
          "metadata": {},
          "execution_count": 169
        }
      ]
    },
    {
      "cell_type": "code",
      "source": [
        "cursor.execute(\"select * from students\")"
      ],
      "metadata": {
        "colab": {
          "base_uri": "https://localhost:8080/"
        },
        "id": "-mBVCZ54LuAh",
        "outputId": "445c9c1e-433f-479d-ab62-c349f5eebdc5"
      },
      "execution_count": null,
      "outputs": [
        {
          "output_type": "execute_result",
          "data": {
            "text/plain": [
              "<sqlite3.Cursor at 0x7d7601ead3c0>"
            ]
          },
          "metadata": {},
          "execution_count": 170
        }
      ]
    },
    {
      "cell_type": "code",
      "source": [
        "row1 = cursor.fetchall()"
      ],
      "metadata": {
        "id": "8DWxAGHuMMjG"
      },
      "execution_count": null,
      "outputs": []
    },
    {
      "cell_type": "code",
      "source": [
        "for row in row1 :\n",
        "  print(\"id:\",row[0],\"name\" ,row[1],\"age:\",row[2],\"gender :\",row[3],'grade',row[4],'mark',row[5])"
      ],
      "metadata": {
        "colab": {
          "base_uri": "https://localhost:8080/"
        },
        "id": "oqSahcyPMUbP",
        "outputId": "38038f1c-3d76-4360-88ca-92168f72c429"
      },
      "execution_count": null,
      "outputs": [
        {
          "output_type": "stream",
          "name": "stdout",
          "text": [
            "id: 113 name ccc age: 18 gender : m grade b+ mark None\n",
            "id: 122 name acc age: 18 gender : m grade a+ mark None\n",
            "id: 123 name abc age: 18 gender : m grade a mark None\n",
            "id: 124 name abd age: 19 gender : m grade b mark None\n",
            "id: 125 name aba age: 20 gender : m grade c mark None\n"
          ]
        }
      ]
    },
    {
      "cell_type": "code",
      "source": [
        "cursor.execute (\"update students set mark = 80 where id = 113\")\n",
        "cursor.execute (\"update students set mark = 70 where id = 122\")\n",
        "cursor.execute (\"update students set mark = 55 where id = 123\")\n",
        "cursor.execute (\"update students set mark = 66 where id = 124\")\n",
        "cursor.execute (\"update students set mark = 40 where id = 125\")"
      ],
      "metadata": {
        "colab": {
          "base_uri": "https://localhost:8080/"
        },
        "id": "7gUFzgdOMdjv",
        "outputId": "2f855e1b-a95f-4ab5-bedd-0af5c5124cc2"
      },
      "execution_count": null,
      "outputs": [
        {
          "output_type": "execute_result",
          "data": {
            "text/plain": [
              "<sqlite3.Cursor at 0x7d7601ead3c0>"
            ]
          },
          "metadata": {},
          "execution_count": 186
        }
      ]
    },
    {
      "cell_type": "code",
      "source": [
        "cursor.execute(\"select * from students\")\n",
        "rows = cursor.fetchall()\n",
        "for row in rows:\n",
        "  print(\"id:\",row[0],\"name\" ,row[1],\"age:\",row[2],\"gender :\",row[3],'grade',row[4],'mark',row[5])"
      ],
      "metadata": {
        "colab": {
          "base_uri": "https://localhost:8080/"
        },
        "id": "hkbM0xaoONSx",
        "outputId": "b911c7ce-56aa-46f0-f914-aa1db3a9dc28"
      },
      "execution_count": null,
      "outputs": [
        {
          "output_type": "stream",
          "name": "stdout",
          "text": [
            "id: 113 name ccc age: 18 gender : m grade b+ mark 80\n",
            "id: 122 name acc age: 18 gender : m grade a+ mark 70\n",
            "id: 123 name abc age: 18 gender : m grade a mark 55\n",
            "id: 124 name abd age: 19 gender : m grade b mark 66\n",
            "id: 125 name aba age: 20 gender : m grade c mark 40\n"
          ]
        }
      ]
    },
    {
      "cell_type": "code",
      "source": [
        "cursor.execute(\"delete from students where id = 113\")"
      ],
      "metadata": {
        "colab": {
          "base_uri": "https://localhost:8080/"
        },
        "id": "I0RXmlM0P2uG",
        "outputId": "77eeb46b-c33a-415a-f546-7c91476e9b5b"
      },
      "execution_count": null,
      "outputs": [
        {
          "output_type": "execute_result",
          "data": {
            "text/plain": [
              "<sqlite3.Cursor at 0x7d7601ead3c0>"
            ]
          },
          "metadata": {},
          "execution_count": 188
        }
      ]
    },
    {
      "cell_type": "code",
      "source": [
        "cursor.execute(\"select * from students\")\n",
        "rows = cursor.fetchall()\n",
        "for row in rows:\n",
        "  print(\"id:\",row[0],\"name\" ,row[1],\"age:\",row[2],\"gender :\",row[3],'grade',row[4],'mark',row[5])"
      ],
      "metadata": {
        "colab": {
          "base_uri": "https://localhost:8080/"
        },
        "id": "7nNDRx0YQR-6",
        "outputId": "41a41af1-65a1-4725-bed5-6043ca41794c"
      },
      "execution_count": null,
      "outputs": [
        {
          "output_type": "stream",
          "name": "stdout",
          "text": [
            "id: 122 name acc age: 18 gender : m grade a+ mark 70\n",
            "id: 123 name abc age: 18 gender : m grade a mark 55\n",
            "id: 124 name abd age: 19 gender : m grade b mark 66\n",
            "id: 125 name aba age: 20 gender : m grade c mark 40\n"
          ]
        }
      ]
    },
    {
      "cell_type": "code",
      "source": [
        "import sqlite3\n",
        "conn = sqlite3.connect('lib.db')\n",
        "cursor = conn.cursor()"
      ],
      "metadata": {
        "id": "Oqp--v2jQUeJ"
      },
      "execution_count": null,
      "outputs": []
    },
    {
      "cell_type": "code",
      "source": [
        "from typing import Text\n",
        "cursor.execute(\"\"\"CREATE TABLE IF NOT EXISTS lib(\n",
        "    bookid INTEGER PRIMARY KEY AUTOINCREMENT,\n",
        "    name TEXT,\n",
        "    author TEXT,\n",
        "    pdate DATE\n",
        "    )\n",
        "   \"\"\")"
      ],
      "metadata": {
        "colab": {
          "base_uri": "https://localhost:8080/"
        },
        "id": "YJ-SWLQUW-Y-",
        "outputId": "31df43f6-43d5-42f2-899c-017ef9a3153b"
      },
      "execution_count": null,
      "outputs": [
        {
          "output_type": "execute_result",
          "data": {
            "text/plain": [
              "<sqlite3.Cursor at 0x7d7601eecac0>"
            ]
          },
          "metadata": {},
          "execution_count": 207
        }
      ]
    },
    {
      "cell_type": "code",
      "source": [],
      "metadata": {
        "id": "UxNioK4zXrRo"
      },
      "execution_count": null,
      "outputs": []
    }
  ]
}